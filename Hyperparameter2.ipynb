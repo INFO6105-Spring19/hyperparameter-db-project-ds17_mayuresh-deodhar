{
 "cells": [
  {
   "cell_type": "code",
   "execution_count": 1,
   "metadata": {},
   "outputs": [],
   "source": [
    "import h2o\n",
    "from h2o.automl import H2OAutoML\n",
    "import random, os, sys\n",
    "from datetime import datetime\n",
    "import pandas as pd\n",
    "import seaborn as sns\n",
    "import matplotlib.pyplot as plt\n",
    "import logging\n",
    "import csv\n",
    "import optparse\n",
    "import time\n",
    "import json\n",
    "from distutils.util import strtobool\n",
    "import psutil\n",
    "import warnings\n",
    "warnings.filterwarnings('ignore')\n",
    "from sklearn import preprocessing\n",
    "from sklearn.preprocessing import LabelEncoder\n",
    "from sklearn.model_selection  import train_test_split \n",
    "from sklearn.metrics import accuracy_score, log_loss, mean_squared_error\n",
    "import json"
   ]
  },
  {
   "cell_type": "code",
   "execution_count": 2,
   "metadata": {},
   "outputs": [
    {
     "name": "stdout",
     "output_type": "stream",
     "text": [
      "Checking whether there is an H2O instance running at http://localhost:54321 ..... not found.\n",
      "Attempting to start a local H2O server...\n",
      "; Java HotSpot(TM) 64-Bit Server VM (build 24.80-b11, mixed mode)\n",
      "  Starting server from C:\\Users\\deodh\\Anaconda3\\lib\\site-packages\\h2o\\backend\\bin\\h2o.jar\n",
      "  Ice root: c:\\users\\deodh\\appdata\\local\\temp\\tmpfnaikh\n",
      "  JVM stdout: c:\\users\\deodh\\appdata\\local\\temp\\tmpfnaikh\\h2o_deodh_started_from_python.out\n",
      "  JVM stderr: c:\\users\\deodh\\appdata\\local\\temp\\tmpfnaikh\\h2o_deodh_started_from_python.err\n",
      "  Server is running at http://127.0.0.1:54321\n",
      "Connecting to H2O server at http://127.0.0.1:54321 ... successful.\n"
     ]
    },
    {
     "data": {
      "text/html": [
       "<div style=\"overflow:auto\"><table style=\"width:50%\"><tr><td>H2O cluster uptime:</td>\n",
       "<td>02 secs</td></tr>\n",
       "<tr><td>H2O cluster timezone:</td>\n",
       "<td>America/New_York</td></tr>\n",
       "<tr><td>H2O data parsing timezone:</td>\n",
       "<td>UTC</td></tr>\n",
       "<tr><td>H2O cluster version:</td>\n",
       "<td>3.24.0.1</td></tr>\n",
       "<tr><td>H2O cluster version age:</td>\n",
       "<td>24 days </td></tr>\n",
       "<tr><td>H2O cluster name:</td>\n",
       "<td>H2O_from_python_deodh_7cp5l2</td></tr>\n",
       "<tr><td>H2O cluster total nodes:</td>\n",
       "<td>1</td></tr>\n",
       "<tr><td>H2O cluster free memory:</td>\n",
       "<td>3.535 Gb</td></tr>\n",
       "<tr><td>H2O cluster total cores:</td>\n",
       "<td>8</td></tr>\n",
       "<tr><td>H2O cluster allowed cores:</td>\n",
       "<td>8</td></tr>\n",
       "<tr><td>H2O cluster status:</td>\n",
       "<td>accepting new members, healthy</td></tr>\n",
       "<tr><td>H2O connection url:</td>\n",
       "<td>http://127.0.0.1:54321</td></tr>\n",
       "<tr><td>H2O connection proxy:</td>\n",
       "<td>None</td></tr>\n",
       "<tr><td>H2O internal security:</td>\n",
       "<td>False</td></tr>\n",
       "<tr><td>H2O API Extensions:</td>\n",
       "<td>AutoML, Amazon S3, Algos, Core V3, Core V4</td></tr>\n",
       "<tr><td>Python version:</td>\n",
       "<td>2.7.16 final</td></tr></table></div>"
      ],
      "text/plain": [
       "--------------------------  ------------------------------------------\n",
       "H2O cluster uptime:         02 secs\n",
       "H2O cluster timezone:       America/New_York\n",
       "H2O data parsing timezone:  UTC\n",
       "H2O cluster version:        3.24.0.1\n",
       "H2O cluster version age:    24 days\n",
       "H2O cluster name:           H2O_from_python_deodh_7cp5l2\n",
       "H2O cluster total nodes:    1\n",
       "H2O cluster free memory:    3.535 Gb\n",
       "H2O cluster total cores:    8\n",
       "H2O cluster allowed cores:  8\n",
       "H2O cluster status:         accepting new members, healthy\n",
       "H2O connection url:         http://127.0.0.1:54321\n",
       "H2O connection proxy:\n",
       "H2O internal security:      False\n",
       "H2O API Extensions:         AutoML, Amazon S3, Algos, Core V3, Core V4\n",
       "Python version:             2.7.16 final\n",
       "--------------------------  ------------------------------------------"
      ]
     },
     "metadata": {},
     "output_type": "display_data"
    }
   ],
   "source": [
    "# Connect to a cluster\n",
    "#port_no=random.randint(5555,55555)\n",
    "port_no = 54321\n",
    "#  h2o.init(strict_version_check=False,min_mem_size_GB=min_mem_size,port=port_no) # start h2o\n",
    "h2o.init(strict_version_check=False) # start h2o"
   ]
  },
  {
   "cell_type": "code",
   "execution_count": 3,
   "metadata": {},
   "outputs": [],
   "source": [
    "df=pd.read_csv(\"mushrooms.csv\")"
   ]
  },
  {
   "cell_type": "code",
   "execution_count": 4,
   "metadata": {},
   "outputs": [
    {
     "data": {
      "text/html": [
       "<div>\n",
       "<style scoped>\n",
       "    .dataframe tbody tr th:only-of-type {\n",
       "        vertical-align: middle;\n",
       "    }\n",
       "\n",
       "    .dataframe tbody tr th {\n",
       "        vertical-align: top;\n",
       "    }\n",
       "\n",
       "    .dataframe thead th {\n",
       "        text-align: right;\n",
       "    }\n",
       "</style>\n",
       "<table border=\"1\" class=\"dataframe\">\n",
       "  <thead>\n",
       "    <tr style=\"text-align: right;\">\n",
       "      <th></th>\n",
       "      <th>class</th>\n",
       "      <th>cap-shape</th>\n",
       "      <th>cap-surface</th>\n",
       "      <th>cap-color</th>\n",
       "      <th>bruises</th>\n",
       "      <th>odor</th>\n",
       "      <th>gill-attachment</th>\n",
       "      <th>gill-spacing</th>\n",
       "      <th>gill-size</th>\n",
       "      <th>gill-color</th>\n",
       "      <th>...</th>\n",
       "      <th>stalk-surface-below-ring</th>\n",
       "      <th>stalk-color-above-ring</th>\n",
       "      <th>stalk-color-below-ring</th>\n",
       "      <th>veil-type</th>\n",
       "      <th>veil-color</th>\n",
       "      <th>ring-number</th>\n",
       "      <th>ring-type</th>\n",
       "      <th>spore-print-color</th>\n",
       "      <th>population</th>\n",
       "      <th>habitat</th>\n",
       "    </tr>\n",
       "  </thead>\n",
       "  <tbody>\n",
       "    <tr>\n",
       "      <th>0</th>\n",
       "      <td>p</td>\n",
       "      <td>x</td>\n",
       "      <td>s</td>\n",
       "      <td>n</td>\n",
       "      <td>t</td>\n",
       "      <td>p</td>\n",
       "      <td>f</td>\n",
       "      <td>c</td>\n",
       "      <td>n</td>\n",
       "      <td>k</td>\n",
       "      <td>...</td>\n",
       "      <td>s</td>\n",
       "      <td>w</td>\n",
       "      <td>w</td>\n",
       "      <td>p</td>\n",
       "      <td>w</td>\n",
       "      <td>o</td>\n",
       "      <td>p</td>\n",
       "      <td>k</td>\n",
       "      <td>s</td>\n",
       "      <td>u</td>\n",
       "    </tr>\n",
       "    <tr>\n",
       "      <th>1</th>\n",
       "      <td>e</td>\n",
       "      <td>x</td>\n",
       "      <td>s</td>\n",
       "      <td>y</td>\n",
       "      <td>t</td>\n",
       "      <td>a</td>\n",
       "      <td>f</td>\n",
       "      <td>c</td>\n",
       "      <td>b</td>\n",
       "      <td>k</td>\n",
       "      <td>...</td>\n",
       "      <td>s</td>\n",
       "      <td>w</td>\n",
       "      <td>w</td>\n",
       "      <td>p</td>\n",
       "      <td>w</td>\n",
       "      <td>o</td>\n",
       "      <td>p</td>\n",
       "      <td>n</td>\n",
       "      <td>n</td>\n",
       "      <td>g</td>\n",
       "    </tr>\n",
       "    <tr>\n",
       "      <th>2</th>\n",
       "      <td>e</td>\n",
       "      <td>b</td>\n",
       "      <td>s</td>\n",
       "      <td>w</td>\n",
       "      <td>t</td>\n",
       "      <td>l</td>\n",
       "      <td>f</td>\n",
       "      <td>c</td>\n",
       "      <td>b</td>\n",
       "      <td>n</td>\n",
       "      <td>...</td>\n",
       "      <td>s</td>\n",
       "      <td>w</td>\n",
       "      <td>w</td>\n",
       "      <td>p</td>\n",
       "      <td>w</td>\n",
       "      <td>o</td>\n",
       "      <td>p</td>\n",
       "      <td>n</td>\n",
       "      <td>n</td>\n",
       "      <td>m</td>\n",
       "    </tr>\n",
       "    <tr>\n",
       "      <th>3</th>\n",
       "      <td>p</td>\n",
       "      <td>x</td>\n",
       "      <td>y</td>\n",
       "      <td>w</td>\n",
       "      <td>t</td>\n",
       "      <td>p</td>\n",
       "      <td>f</td>\n",
       "      <td>c</td>\n",
       "      <td>n</td>\n",
       "      <td>n</td>\n",
       "      <td>...</td>\n",
       "      <td>s</td>\n",
       "      <td>w</td>\n",
       "      <td>w</td>\n",
       "      <td>p</td>\n",
       "      <td>w</td>\n",
       "      <td>o</td>\n",
       "      <td>p</td>\n",
       "      <td>k</td>\n",
       "      <td>s</td>\n",
       "      <td>u</td>\n",
       "    </tr>\n",
       "    <tr>\n",
       "      <th>4</th>\n",
       "      <td>e</td>\n",
       "      <td>x</td>\n",
       "      <td>s</td>\n",
       "      <td>g</td>\n",
       "      <td>f</td>\n",
       "      <td>n</td>\n",
       "      <td>f</td>\n",
       "      <td>w</td>\n",
       "      <td>b</td>\n",
       "      <td>k</td>\n",
       "      <td>...</td>\n",
       "      <td>s</td>\n",
       "      <td>w</td>\n",
       "      <td>w</td>\n",
       "      <td>p</td>\n",
       "      <td>w</td>\n",
       "      <td>o</td>\n",
       "      <td>e</td>\n",
       "      <td>n</td>\n",
       "      <td>a</td>\n",
       "      <td>g</td>\n",
       "    </tr>\n",
       "  </tbody>\n",
       "</table>\n",
       "<p>5 rows × 23 columns</p>\n",
       "</div>"
      ],
      "text/plain": [
       "  class cap-shape cap-surface cap-color bruises odor gill-attachment  \\\n",
       "0     p         x           s         n       t    p               f   \n",
       "1     e         x           s         y       t    a               f   \n",
       "2     e         b           s         w       t    l               f   \n",
       "3     p         x           y         w       t    p               f   \n",
       "4     e         x           s         g       f    n               f   \n",
       "\n",
       "  gill-spacing gill-size gill-color  ... stalk-surface-below-ring  \\\n",
       "0            c         n          k  ...                        s   \n",
       "1            c         b          k  ...                        s   \n",
       "2            c         b          n  ...                        s   \n",
       "3            c         n          n  ...                        s   \n",
       "4            w         b          k  ...                        s   \n",
       "\n",
       "  stalk-color-above-ring stalk-color-below-ring veil-type veil-color  \\\n",
       "0                      w                      w         p          w   \n",
       "1                      w                      w         p          w   \n",
       "2                      w                      w         p          w   \n",
       "3                      w                      w         p          w   \n",
       "4                      w                      w         p          w   \n",
       "\n",
       "  ring-number ring-type spore-print-color population habitat  \n",
       "0           o         p                 k          s       u  \n",
       "1           o         p                 n          n       g  \n",
       "2           o         p                 n          n       m  \n",
       "3           o         p                 k          s       u  \n",
       "4           o         e                 n          a       g  \n",
       "\n",
       "[5 rows x 23 columns]"
      ]
     },
     "execution_count": 4,
     "metadata": {},
     "output_type": "execute_result"
    }
   ],
   "source": [
    "df.head()"
   ]
  },
  {
   "cell_type": "code",
   "execution_count": 5,
   "metadata": {},
   "outputs": [
    {
     "data": {
      "text/plain": [
       "Index([u'class', u'cap-shape', u'cap-surface', u'cap-color', u'bruises',\n",
       "       u'odor', u'gill-attachment', u'gill-spacing', u'gill-size',\n",
       "       u'gill-color', u'stalk-shape', u'stalk-root',\n",
       "       u'stalk-surface-above-ring', u'stalk-surface-below-ring',\n",
       "       u'stalk-color-above-ring', u'stalk-color-below-ring', u'veil-type',\n",
       "       u'veil-color', u'ring-number', u'ring-type', u'spore-print-color',\n",
       "       u'population', u'habitat'],\n",
       "      dtype='object')"
      ]
     },
     "execution_count": 5,
     "metadata": {},
     "output_type": "execute_result"
    }
   ],
   "source": [
    "df.columns"
   ]
  },
  {
   "cell_type": "code",
   "execution_count": 6,
   "metadata": {},
   "outputs": [
    {
     "data": {
      "text/plain": [
       "class                       0\n",
       "cap-shape                   0\n",
       "cap-surface                 0\n",
       "cap-color                   0\n",
       "bruises                     0\n",
       "odor                        0\n",
       "gill-attachment             0\n",
       "gill-spacing                0\n",
       "gill-size                   0\n",
       "gill-color                  0\n",
       "stalk-shape                 0\n",
       "stalk-root                  0\n",
       "stalk-surface-above-ring    0\n",
       "stalk-surface-below-ring    0\n",
       "stalk-color-above-ring      0\n",
       "stalk-color-below-ring      0\n",
       "veil-type                   0\n",
       "veil-color                  0\n",
       "ring-number                 0\n",
       "ring-type                   0\n",
       "spore-print-color           0\n",
       "population                  0\n",
       "habitat                     0\n",
       "dtype: int64"
      ]
     },
     "execution_count": 6,
     "metadata": {},
     "output_type": "execute_result"
    }
   ],
   "source": [
    "df.isnull().sum()"
   ]
  },
  {
   "cell_type": "code",
   "execution_count": 7,
   "metadata": {},
   "outputs": [
    {
     "data": {
      "text/plain": [
       "class                       object\n",
       "cap-shape                   object\n",
       "cap-surface                 object\n",
       "cap-color                   object\n",
       "bruises                     object\n",
       "odor                        object\n",
       "gill-attachment             object\n",
       "gill-spacing                object\n",
       "gill-size                   object\n",
       "gill-color                  object\n",
       "stalk-shape                 object\n",
       "stalk-root                  object\n",
       "stalk-surface-above-ring    object\n",
       "stalk-surface-below-ring    object\n",
       "stalk-color-above-ring      object\n",
       "stalk-color-below-ring      object\n",
       "veil-type                   object\n",
       "veil-color                  object\n",
       "ring-number                 object\n",
       "ring-type                   object\n",
       "spore-print-color           object\n",
       "population                  object\n",
       "habitat                     object\n",
       "dtype: object"
      ]
     },
     "execution_count": 7,
     "metadata": {},
     "output_type": "execute_result"
    }
   ],
   "source": [
    "df.dtypes"
   ]
  },
  {
   "cell_type": "code",
   "execution_count": 8,
   "metadata": {},
   "outputs": [
    {
     "name": "stdout",
     "output_type": "stream",
     "text": [
      "Parse progress: |█████████████████████████████████████████████████████████| 100%\n"
     ]
    }
   ],
   "source": [
    "df = h2o.H2OFrame(df)"
   ]
  },
  {
   "cell_type": "code",
   "execution_count": 9,
   "metadata": {},
   "outputs": [
    {
     "data": {
      "text/plain": [
       "[u'class',\n",
       " u'cap-shape',\n",
       " u'cap-surface',\n",
       " u'cap-color',\n",
       " u'bruises',\n",
       " u'odor',\n",
       " u'gill-attachment',\n",
       " u'gill-spacing',\n",
       " u'gill-size',\n",
       " u'gill-color',\n",
       " u'stalk-shape',\n",
       " u'stalk-root',\n",
       " u'stalk-surface-above-ring',\n",
       " u'stalk-surface-below-ring',\n",
       " u'stalk-color-above-ring',\n",
       " u'stalk-color-below-ring',\n",
       " u'veil-type',\n",
       " u'veil-color',\n",
       " u'ring-number',\n",
       " u'ring-type',\n",
       " u'spore-print-color',\n",
       " u'population',\n",
       " u'habitat']"
      ]
     },
     "execution_count": 9,
     "metadata": {},
     "output_type": "execute_result"
    }
   ],
   "source": [
    "df.columns"
   ]
  },
  {
   "cell_type": "markdown",
   "metadata": {},
   "source": [
    "# Function for Run id"
   ]
  },
  {
   "cell_type": "code",
   "execution_count": 10,
   "metadata": {},
   "outputs": [],
   "source": [
    "def run_id(n):\n",
    "    letter='0123456789abcdefghijklmnopqrstuvwxyzABCDEFGHIJKLMNOPQRSTUVWXYZ'    \n",
    "    str=''\n",
    "    r=len(letter)-1   \n",
    "    while len(str)<n:\n",
    "        i=random.randint(0,r)\n",
    "        str+=letter[i]   \n",
    "    return str\n",
    "server_path=None"
   ]
  },
  {
   "cell_type": "code",
   "execution_count": 11,
   "metadata": {},
   "outputs": [],
   "source": [
    "data_path= 'C:\\Users\\deodh\\Desktop\\hyperparameter\\mushrooms.csv'\n",
    "all_variables=None\n",
    "test_path=None\n",
    "target=None\n",
    "nthreads=1 \n",
    "min_mem_size=6 \n",
    "run_time=200\n",
    "classification=True\n",
    "#scale=False\n",
    "max_models=100   \n",
    "model_path=None\n",
    "balance_y=False \n",
    "balance_threshold=0.2\n",
    "name=None \n",
    "server_path=None  \n",
    "#analysis=0"
   ]
  },
  {
   "cell_type": "code",
   "execution_count": 12,
   "metadata": {},
   "outputs": [],
   "source": [
    "\n",
    "def meta_data(run_id,server,data,test,model_path,target,run_time,regression,model,balance,balance_threshold,name,path,nthreads,min_mem_size):\n",
    "    m_data={}\n",
    "    m_data['start_time'] = time.time()\n",
    "    m_data['target']=target\n",
    "    m_data['server_path']=server\n",
    "    m_data['data_path']=data \n",
    "    m_data['test_path']=test\n",
    "    m_data['max_models']=model\n",
    "    m_data['run_time']=run_time\n",
    "    m_data['run_id'] =run_id\n",
    "    m_data['scale']=scale\n",
    "    m_data['classification']=classification\n",
    "    m_data['scale']=False\n",
    "    m_data['model_path']=model_path\n",
    "    m_data['balance']=balance\n",
    "    m_data['balance_threshold']=balance_threshold\n",
    "    m_data['project'] =name\n",
    "    m_data['end_time'] = time.time()\n",
    "    m_data['execution_time'] = 0.0\n",
    "    m_data['run_path'] =path\n",
    "    m_data['nthreads'] = nthreads\n",
    "    m_data['min_mem_size'] = min_mem_size\n",
    "   # m_data['analysis'] = analysis\n",
    "    return m_data"
   ]
  },
  {
   "cell_type": "code",
   "execution_count": 13,
   "metadata": {},
   "outputs": [
    {
     "name": "stdout",
     "output_type": "stream",
     "text": [
      "[u'veil-color', u'cap-surface', u'habitat', u'odor', u'stalk-root', u'cap-shape', u'cap-color', u'stalk-color-above-ring', u'spore-print-color', u'gill-color', u'population', u'stalk-color-below-ring', u'ring-type', u'stalk-shape', u'bruises', u'stalk-surface-above-ring', u'veil-type', u'gill-attachment', u'gill-spacing', u'ring-number', u'stalk-surface-below-ring', u'gill-size']\n",
      "class\n"
     ]
    }
   ],
   "source": [
    "target = 'class'\n",
    "\n",
    "def get_independent_variables(train_data, targ):\n",
    "    C = [name for name in train_data.columns if name != targ]\n",
    "    # determine column types\n",
    "    ints, reals, enums = [], [], []\n",
    "    for key, val in train_data.types.items():\n",
    "        if key in C:\n",
    "            if val == 'enum':\n",
    "                enums.append(key)\n",
    "            elif val == 'int':\n",
    "                ints.append(key)            \n",
    "            else: \n",
    "                reals.append(key)    \n",
    "    x = ints + enums + reals\n",
    "    return x\n",
    "\n",
    "X = get_independent_variables(df, target) \n",
    "print(X)\n",
    "y = target\n",
    "print(y)"
   ]
  },
  {
   "cell_type": "code",
   "execution_count": 14,
   "metadata": {},
   "outputs": [],
   "source": [
    "# setup autoML\n",
    "# min_mem_size=6 \n",
    "run_time=200\n",
    "aml1 = H2OAutoML(max_runtime_secs=run_time)"
   ]
  },
  {
   "cell_type": "code",
   "execution_count": 15,
   "metadata": {},
   "outputs": [
    {
     "name": "stdout",
     "output_type": "stream",
     "text": [
      "AutoML progress: |████████████████████████████████████████████████████████| 100%\n"
     ]
    }
   ],
   "source": [
    "model_start_time = time.time()\n",
    "aml1.train(x=X,y=y,training_frame=df)  # Change training_frame=train"
   ]
  },
  {
   "cell_type": "code",
   "execution_count": null,
   "metadata": {},
   "outputs": [],
   "source": [
    "\n",
    "runid=run_id(10)\n",
    "if server_path==None:\n",
    "    server_path=os.path.abspath(os.curdir)\n",
    "os.chdir(server_path) \n",
    "run_dir = os.path.join(server_path,runid)\n",
    "os.mkdir(run_dir)\n",
    "os.chdir(run_dir)    \n",
    "\n",
    "# run_id to std out\n",
    "print (runid)"
   ]
  },
  {
   "cell_type": "code",
   "execution_count": 16,
   "metadata": {},
   "outputs": [
    {
     "data": {
      "text/html": [
       "<table>\n",
       "<thead>\n",
       "<tr><th>model_id                                           </th><th style=\"text-align: right;\">     auc</th><th style=\"text-align: right;\">    logloss</th><th style=\"text-align: right;\">  mean_per_class_error</th><th style=\"text-align: right;\">       rmse</th><th style=\"text-align: right;\">        mse</th></tr>\n",
       "</thead>\n",
       "<tbody>\n",
       "<tr><td>GLM_grid_1_AutoML_20190423_030857_model_1          </td><td style=\"text-align: right;\">1       </td><td style=\"text-align: right;\">0.00199809 </td><td style=\"text-align: right;\">            0         </td><td style=\"text-align: right;\">0.00783831 </td><td style=\"text-align: right;\">6.1439e-05 </td></tr>\n",
       "<tr><td>GBM_5_AutoML_20190423_030857                       </td><td style=\"text-align: right;\">1       </td><td style=\"text-align: right;\">1.54084e-13</td><td style=\"text-align: right;\">            0         </td><td style=\"text-align: right;\">2.27237e-12</td><td style=\"text-align: right;\">5.16365e-24</td></tr>\n",
       "<tr><td>GBM_1_AutoML_20190423_030857                       </td><td style=\"text-align: right;\">1       </td><td style=\"text-align: right;\">1.14931e-17</td><td style=\"text-align: right;\">            0         </td><td style=\"text-align: right;\">8.04002e-16</td><td style=\"text-align: right;\">6.46419e-31</td></tr>\n",
       "<tr><td>GBM_grid_1_AutoML_20190423_030857_model_1          </td><td style=\"text-align: right;\">1       </td><td style=\"text-align: right;\">0.0693869  </td><td style=\"text-align: right;\">            0         </td><td style=\"text-align: right;\">0.0674875  </td><td style=\"text-align: right;\">0.00455457 </td></tr>\n",
       "<tr><td>GBM_3_AutoML_20190423_030857                       </td><td style=\"text-align: right;\">1       </td><td style=\"text-align: right;\">2.05263e-17</td><td style=\"text-align: right;\">            0         </td><td style=\"text-align: right;\">1.30918e-15</td><td style=\"text-align: right;\">1.71395e-30</td></tr>\n",
       "<tr><td>GBM_2_AutoML_20190423_030857                       </td><td style=\"text-align: right;\">1       </td><td style=\"text-align: right;\">1.16707e-17</td><td style=\"text-align: right;\">            0         </td><td style=\"text-align: right;\">6.78744e-16</td><td style=\"text-align: right;\">4.60694e-31</td></tr>\n",
       "<tr><td>StackedEnsemble_BestOfFamily_AutoML_20190423_030857</td><td style=\"text-align: right;\">1       </td><td style=\"text-align: right;\">0.00149454 </td><td style=\"text-align: right;\">            0         </td><td style=\"text-align: right;\">0.00161258 </td><td style=\"text-align: right;\">2.60041e-06</td></tr>\n",
       "<tr><td>DeepLearning_1_AutoML_20190423_030857              </td><td style=\"text-align: right;\">1       </td><td style=\"text-align: right;\">0.000212221</td><td style=\"text-align: right;\">            0         </td><td style=\"text-align: right;\">0.00369512 </td><td style=\"text-align: right;\">1.36539e-05</td></tr>\n",
       "<tr><td>GBM_grid_1_AutoML_20190423_030857_model_2          </td><td style=\"text-align: right;\">1       </td><td style=\"text-align: right;\">0.633817   </td><td style=\"text-align: right;\">            0         </td><td style=\"text-align: right;\">0.469476   </td><td style=\"text-align: right;\">0.220408   </td></tr>\n",
       "<tr><td>StackedEnsemble_AllModels_AutoML_20190423_030857   </td><td style=\"text-align: right;\">1       </td><td style=\"text-align: right;\">0.00102106 </td><td style=\"text-align: right;\">            0         </td><td style=\"text-align: right;\">0.00106645 </td><td style=\"text-align: right;\">1.13731e-06</td></tr>\n",
       "<tr><td>DRF_1_AutoML_20190423_030857                       </td><td style=\"text-align: right;\">1       </td><td style=\"text-align: right;\">0.00128541 </td><td style=\"text-align: right;\">            0         </td><td style=\"text-align: right;\">0.0057611  </td><td style=\"text-align: right;\">3.31903e-05</td></tr>\n",
       "<tr><td>GBM_4_AutoML_20190423_030857                       </td><td style=\"text-align: right;\">1       </td><td style=\"text-align: right;\">3.67614e-17</td><td style=\"text-align: right;\">            0         </td><td style=\"text-align: right;\">2.25937e-15</td><td style=\"text-align: right;\">5.10475e-30</td></tr>\n",
       "<tr><td>XRT_1_AutoML_20190423_030857                       </td><td style=\"text-align: right;\">0.999599</td><td style=\"text-align: right;\">0.210461   </td><td style=\"text-align: right;\">            0.00654561</td><td style=\"text-align: right;\">0.21741    </td><td style=\"text-align: right;\">0.0472672  </td></tr>\n",
       "<tr><td>GBM_grid_1_AutoML_20190423_030857_model_3          </td><td style=\"text-align: right;\">0.966142</td><td style=\"text-align: right;\">0.304599   </td><td style=\"text-align: right;\">            0.0719773 </td><td style=\"text-align: right;\">0.278381   </td><td style=\"text-align: right;\">0.0774962  </td></tr>\n",
       "</tbody>\n",
       "</table>"
      ]
     },
     "metadata": {},
     "output_type": "display_data"
    },
    {
     "data": {
      "text/plain": []
     },
     "execution_count": 16,
     "metadata": {},
     "output_type": "execute_result"
    }
   ],
   "source": [
    "# view leaderboard\n",
    "lb1 = aml1.leaderboard\n",
    "lb1.head(500)"
   ]
  },
  {
   "cell_type": "code",
   "execution_count": 17,
   "metadata": {},
   "outputs": [
    {
     "data": {
      "text/plain": [
       "0             GLM_grid_1_AutoML_20190423_030857_model_1\n",
       "1                          GBM_5_AutoML_20190423_030857\n",
       "2                          GBM_1_AutoML_20190423_030857\n",
       "3             GBM_grid_1_AutoML_20190423_030857_model_1\n",
       "4                          GBM_3_AutoML_20190423_030857\n",
       "5                          GBM_2_AutoML_20190423_030857\n",
       "6     StackedEnsemble_BestOfFamily_AutoML_20190423_0...\n",
       "7                 DeepLearning_1_AutoML_20190423_030857\n",
       "8             GBM_grid_1_AutoML_20190423_030857_model_2\n",
       "9      StackedEnsemble_AllModels_AutoML_20190423_030857\n",
       "10                         DRF_1_AutoML_20190423_030857\n",
       "11                         GBM_4_AutoML_20190423_030857\n",
       "12                         XRT_1_AutoML_20190423_030857\n",
       "13            GBM_grid_1_AutoML_20190423_030857_model_3\n",
       "Name: model_id, dtype: object"
      ]
     },
     "execution_count": 17,
     "metadata": {},
     "output_type": "execute_result"
    }
   ],
   "source": [
    "aml1_leaderboard_df=aml1.leaderboard.as_data_frame()\n",
    "model_set=aml1_leaderboard_df['model_id']\n",
    "model_set"
   ]
  },
  {
   "cell_type": "code",
   "execution_count": null,
   "metadata": {},
   "outputs": [],
   "source": [
    "# meta data\n",
    "metadata = meta_data(runid,server_path,data_path,test_path,model_path,target,run_time,classification,max_models,balance_y,balance_threshold,name,run_dir,nthreads,min_mem_size)\n",
    "print(metadata)"
   ]
  },
  {
   "cell_type": "code",
   "execution_count": null,
   "metadata": {},
   "outputs": [],
   "source": [
    "metadata = json.dumps(metadata)"
   ]
  },
  {
   "cell_type": "code",
   "execution_count": null,
   "metadata": {},
   "outputs": [],
   "source": [
    "with open('metadata.json', 'w') as fp:\n",
    "    json.dump(metadata, fp)"
   ]
  },
  {
   "cell_type": "code",
   "execution_count": null,
   "metadata": {},
   "outputs": [],
   "source": [
    "df1 = lb1.as_data_frame()"
   ]
  },
  {
   "cell_type": "code",
   "execution_count": null,
   "metadata": {},
   "outputs": [],
   "source": [
    "df1.to_csv(\"200leaderboard.csv\")"
   ]
  },
  {
   "cell_type": "code",
   "execution_count": 18,
   "metadata": {},
   "outputs": [],
   "source": [
    "model1 = h2o.get_model(lb1[0,'model_id'])"
   ]
  },
  {
   "cell_type": "code",
   "execution_count": null,
   "metadata": {},
   "outputs": [],
   "source": [
    "model1 = json.dumps(model1)"
   ]
  },
  {
   "cell_type": "code",
   "execution_count": null,
   "metadata": {},
   "outputs": [],
   "source": [
    "with open('model1-GBM_1.json', 'w') as fp:\n",
    "    json.dump(model1, fp)"
   ]
  },
  {
   "cell_type": "code",
   "execution_count": null,
   "metadata": {},
   "outputs": [],
   "source": [
    "model2 = h2o.get_model(lb1[1,'model_id'])\n",
    "model2 = model2.params\n",
    "with open('model2-GBM_4.json', 'w') as fp:\n",
    "    json.dump(model2, fp)"
   ]
  },
  {
   "cell_type": "code",
   "execution_count": null,
   "metadata": {},
   "outputs": [],
   "source": [
    "model3 = h2o.get_model(lb1[2,'model_id'])\n",
    "model3 = model3.params\n",
    "with open('model3-GBM_3.json', 'w') as fp:\n",
    "    json.dump(model3, fp)"
   ]
  },
  {
   "cell_type": "code",
   "execution_count": null,
   "metadata": {},
   "outputs": [],
   "source": [
    "model4 = h2o.get_model(lb1[3,'model_id'])\n",
    "model4 = model4.params\n",
    "with open('model4-GBM_grid_1_2.json', 'w') as fp:\n",
    "    json.dump(model4, fp)"
   ]
  },
  {
   "cell_type": "code",
   "execution_count": null,
   "metadata": {},
   "outputs": [],
   "source": [
    "model5 = h2o.get_model(lb1[4,'model_id'])\n",
    "model5 = model5.params\n",
    "with open('model5-GLM_grid_1_1.json', 'w') as fp:\n",
    "    json.dump(model5, fp)"
   ]
  },
  {
   "cell_type": "code",
   "execution_count": null,
   "metadata": {},
   "outputs": [],
   "source": [
    "model6 = h2o.get_model(lb1[5,'model_id'])\n",
    "model6 = model6.params\n",
    "with open('model6-GLM_grid_1_4.json', 'w') as fp:\n",
    "    json.dump(model6, fp)"
   ]
  },
  {
   "cell_type": "code",
   "execution_count": null,
   "metadata": {},
   "outputs": [],
   "source": [
    "model7 = h2o.get_model(lb1[6,'model_id'])\n",
    "model7 = model7.params\n",
    "with open('model7-GBM_5.json', 'w') as fp:\n",
    "    json.dump(model7, fp)"
   ]
  },
  {
   "cell_type": "code",
   "execution_count": null,
   "metadata": {},
   "outputs": [],
   "source": [
    "model8 = h2o.get_model(lb1[7,'model_id'])\n",
    "model8 = model8.params\n",
    "with open('model8-GBM_grid_1_3.json', 'w') as fp:\n",
    "    json.dump(model8, fp)"
   ]
  },
  {
   "cell_type": "code",
   "execution_count": null,
   "metadata": {},
   "outputs": [],
   "source": [
    "model9 = h2o.get_model(lb1[8,'model_id'])\n",
    "model9 = model9.params\n",
    "with open('model9-StackedEnsemble_AllModels.json', 'w') as fp:\n",
    "    json.dump(model9, fp)"
   ]
  },
  {
   "cell_type": "code",
   "execution_count": null,
   "metadata": {},
   "outputs": [],
   "source": [
    "model10 = h2o.get_model(lb1[9,'model_id'])\n",
    "model10 = model10.params\n",
    "with open('model10-DeepLearning_1.json', 'w') as fp:\n",
    "    json.dump(model10, fp)"
   ]
  },
  {
   "cell_type": "code",
   "execution_count": null,
   "metadata": {},
   "outputs": [],
   "source": [
    "model11 = h2o.get_model(lb1[10,'model_id'])\n",
    "model11 = model11.params\n",
    "with open('model11-DRF_1.json', 'w') as fp:\n",
    "    json.dump(model11, fp)"
   ]
  },
  {
   "cell_type": "code",
   "execution_count": null,
   "metadata": {},
   "outputs": [],
   "source": [
    "model12 = h2o.get_model(lb1[11,'model_id'])\n",
    "model12 = model12.params\n",
    "with open('model12-GBM_2.json', 'w') as fp:\n",
    "    json.dump(model12, fp)"
   ]
  },
  {
   "cell_type": "code",
   "execution_count": null,
   "metadata": {},
   "outputs": [],
   "source": [
    "model13 = h2o.get_model(lb1[12,'model_id'])\n",
    "model13 = model13.params\n",
    "with open('model13-GBM_grid_1_1.json', 'w') as fp:\n",
    "    json.dump(model13, fp)"
   ]
  },
  {
   "cell_type": "code",
   "execution_count": null,
   "metadata": {},
   "outputs": [],
   "source": [
    "model14 = h2o.get_model(lb1[13,'model_id'])\n",
    "model14 = model14.params\n",
    "with open('model14-StackedEnsemble_BestOfFamily.json', 'w') as fp:\n",
    "    json.dump(model14, fp)"
   ]
  },
  {
   "cell_type": "code",
   "execution_count": null,
   "metadata": {},
   "outputs": [],
   "source": [
    "model15 = h2o.get_model(lb1[14,'model_id'])\n",
    "model15 = model15.params\n",
    "with open('model15-DeepLearning_grid_1_2.json', 'w') as fp:\n",
    "    json.dump(model15, fp)"
   ]
  },
  {
   "cell_type": "code",
   "execution_count": null,
   "metadata": {},
   "outputs": [],
   "source": [
    "model16 = h2o.get_model(lb1[15,'model_id'])\n",
    "model16 = model16.params\n",
    "with open('model16-GBM_grid_1_5.json', 'w') as fp:\n",
    "    json.dump(model16, fp)"
   ]
  },
  {
   "cell_type": "code",
   "execution_count": null,
   "metadata": {},
   "outputs": [],
   "source": [
    "model17 = h2o.get_model(lb1[16,'model_id'])\n",
    "model17 = model17.params\n",
    "with open('model17-DeepLearning_grid_1_1.json', 'w') as fp:\n",
    "    json.dump(model17, fp)"
   ]
  },
  {
   "cell_type": "code",
   "execution_count": null,
   "metadata": {},
   "outputs": [],
   "source": [
    "model18 = h2o.get_model(lb1[17,'model_id'])\n",
    "model18 = model18.params\n",
    "with open('model18-XRT_1.json', 'w') as fp:\n",
    "    json.dump(model18, fp)"
   ]
  },
  {
   "cell_type": "code",
   "execution_count": null,
   "metadata": {},
   "outputs": [],
   "source": [
    "model19 = h2o.get_model(lb1[18,'model_id'])\n",
    "model19 = model19.params\n",
    "with open('model19-DeepLearning_grid_1_3.json', 'w') as fp:\n",
    "    json.dump(model19, fp)"
   ]
  },
  {
   "cell_type": "code",
   "execution_count": null,
   "metadata": {},
   "outputs": [],
   "source": [
    "model20 = h2o.get_model(lb1[19,'model_id'])\n",
    "model20 = model20.params\n",
    "with open('model20.json', 'w') as fp:\n",
    "    json.dump(model20, fp)"
   ]
  },
  {
   "cell_type": "code",
   "execution_count": null,
   "metadata": {},
   "outputs": [],
   "source": [
    "# setup autoML\n",
    "# min_mem_size=6 \n",
    "run_time=400\n",
    "aml2 = H2OAutoML(max_runtime_secs=run_time)"
   ]
  },
  {
   "cell_type": "code",
   "execution_count": null,
   "metadata": {},
   "outputs": [],
   "source": [
    "model_start_time = time.time()\n",
    "aml2.train(x=X,y=y,training_frame=df2)  # Change training_frame=train"
   ]
  },
  {
   "cell_type": "code",
   "execution_count": null,
   "metadata": {},
   "outputs": [],
   "source": [
    "# view leaderboard\n",
    "lb2 = aml2.leaderboard\n",
    "lb2.head(500)"
   ]
  },
  {
   "cell_type": "code",
   "execution_count": null,
   "metadata": {},
   "outputs": [],
   "source": [
    "# setup autoML\n",
    "# min_mem_size=6 \n",
    "run_time=600\n",
    "aml3 = H2OAutoML(max_runtime_secs=run_time)"
   ]
  },
  {
   "cell_type": "code",
   "execution_count": null,
   "metadata": {},
   "outputs": [],
   "source": [
    "model_start_time = time.time()\n",
    "aml3.train(x=X,y=y,training_frame=df2)  # Change training_frame=train"
   ]
  },
  {
   "cell_type": "code",
   "execution_count": null,
   "metadata": {},
   "outputs": [],
   "source": [
    "lb3 = aml3.leaderboard\n",
    "lb3.head(500)"
   ]
  },
  {
   "cell_type": "code",
   "execution_count": null,
   "metadata": {},
   "outputs": [],
   "source": [
    "# setup autoML\n",
    "# min_mem_size=6 \n",
    "run_time=800\n",
    "aml4 = H2OAutoML(max_runtime_secs=run_time)"
   ]
  },
  {
   "cell_type": "code",
   "execution_count": null,
   "metadata": {},
   "outputs": [],
   "source": [
    "model_start_time = time.time()\n",
    "aml4.train(x=X,y=y,training_frame=df2)  # Change training_frame=train"
   ]
  },
  {
   "cell_type": "code",
   "execution_count": null,
   "metadata": {},
   "outputs": [],
   "source": [
    "lb4 = aml4.leaderboard\n",
    "lb4.head(500)"
   ]
  },
  {
   "cell_type": "code",
   "execution_count": null,
   "metadata": {},
   "outputs": [],
   "source": [
    "# setup autoML\n",
    "# min_mem_size=6 \n",
    "run_time=999\n",
    "aml5 = H2OAutoML(max_runtime_secs=run_time)"
   ]
  },
  {
   "cell_type": "code",
   "execution_count": null,
   "metadata": {},
   "outputs": [],
   "source": [
    "model_start_time = time.time()\n",
    "aml5.train(x=X,y=y,training_frame=df2)  # Change training_frame=train"
   ]
  },
  {
   "cell_type": "code",
   "execution_count": null,
   "metadata": {},
   "outputs": [],
   "source": [
    "lb5 = aml5.leaderboard\n",
    "lb5.head(500)"
   ]
  }
 ],
 "metadata": {
  "kernelspec": {
   "display_name": "Python 2",
   "language": "python",
   "name": "python2"
  },
  "language_info": {
   "codemirror_mode": {
    "name": "ipython",
    "version": 2
   },
   "file_extension": ".py",
   "mimetype": "text/x-python",
   "name": "python",
   "nbconvert_exporter": "python",
   "pygments_lexer": "ipython2",
   "version": "2.7.16"
  }
 },
 "nbformat": 4,
 "nbformat_minor": 2
}
