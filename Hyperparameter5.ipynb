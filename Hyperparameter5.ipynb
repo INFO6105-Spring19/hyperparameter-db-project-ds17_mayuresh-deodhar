{
 "cells": [
  {
   "cell_type": "code",
   "execution_count": 1,
   "metadata": {},
   "outputs": [],
   "source": [
    "import h2o\n",
    "from h2o.automl import H2OAutoML\n",
    "import random, os, sys\n",
    "from datetime import datetime\n",
    "import pandas as pd\n",
    "import seaborn as sns\n",
    "import matplotlib.pyplot as plt\n",
    "import logging\n",
    "import csv\n",
    "import optparse\n",
    "import time\n",
    "import json\n",
    "from distutils.util import strtobool\n",
    "import psutil\n",
    "import warnings\n",
    "warnings.filterwarnings('ignore')\n",
    "from sklearn import preprocessing\n",
    "from sklearn.preprocessing import LabelEncoder\n",
    "from sklearn.model_selection  import train_test_split \n",
    "from sklearn.metrics import accuracy_score, log_loss, mean_squared_error\n",
    "import json"
   ]
  },
  {
   "cell_type": "code",
   "execution_count": 2,
   "metadata": {},
   "outputs": [
    {
     "name": "stdout",
     "output_type": "stream",
     "text": [
      "Checking whether there is an H2O instance running at http://localhost:54321 . connected.\n"
     ]
    },
    {
     "data": {
      "text/html": [
       "<div style=\"overflow:auto\"><table style=\"width:50%\"><tr><td>H2O cluster uptime:</td>\n",
       "<td>2 hours 5 mins</td></tr>\n",
       "<tr><td>H2O cluster timezone:</td>\n",
       "<td>America/New_York</td></tr>\n",
       "<tr><td>H2O data parsing timezone:</td>\n",
       "<td>UTC</td></tr>\n",
       "<tr><td>H2O cluster version:</td>\n",
       "<td>3.24.0.1</td></tr>\n",
       "<tr><td>H2O cluster version age:</td>\n",
       "<td>19 days </td></tr>\n",
       "<tr><td>H2O cluster name:</td>\n",
       "<td>H2O_from_python_deodh_6k182v</td></tr>\n",
       "<tr><td>H2O cluster total nodes:</td>\n",
       "<td>1</td></tr>\n",
       "<tr><td>H2O cluster free memory:</td>\n",
       "<td>2.545 Gb</td></tr>\n",
       "<tr><td>H2O cluster total cores:</td>\n",
       "<td>8</td></tr>\n",
       "<tr><td>H2O cluster allowed cores:</td>\n",
       "<td>8</td></tr>\n",
       "<tr><td>H2O cluster status:</td>\n",
       "<td>locked, healthy</td></tr>\n",
       "<tr><td>H2O connection url:</td>\n",
       "<td>http://localhost:54321</td></tr>\n",
       "<tr><td>H2O connection proxy:</td>\n",
       "<td>None</td></tr>\n",
       "<tr><td>H2O internal security:</td>\n",
       "<td>False</td></tr>\n",
       "<tr><td>H2O API Extensions:</td>\n",
       "<td>AutoML, Amazon S3, Algos, Core V3, Core V4</td></tr>\n",
       "<tr><td>Python version:</td>\n",
       "<td>2.7.16 final</td></tr></table></div>"
      ],
      "text/plain": [
       "--------------------------  ------------------------------------------\n",
       "H2O cluster uptime:         2 hours 5 mins\n",
       "H2O cluster timezone:       America/New_York\n",
       "H2O data parsing timezone:  UTC\n",
       "H2O cluster version:        3.24.0.1\n",
       "H2O cluster version age:    19 days\n",
       "H2O cluster name:           H2O_from_python_deodh_6k182v\n",
       "H2O cluster total nodes:    1\n",
       "H2O cluster free memory:    2.545 Gb\n",
       "H2O cluster total cores:    8\n",
       "H2O cluster allowed cores:  8\n",
       "H2O cluster status:         locked, healthy\n",
       "H2O connection url:         http://localhost:54321\n",
       "H2O connection proxy:\n",
       "H2O internal security:      False\n",
       "H2O API Extensions:         AutoML, Amazon S3, Algos, Core V3, Core V4\n",
       "Python version:             2.7.16 final\n",
       "--------------------------  ------------------------------------------"
      ]
     },
     "metadata": {},
     "output_type": "display_data"
    }
   ],
   "source": [
    "# Connect to a cluster\n",
    "#port_no=random.randint(5555,55555)\n",
    "port_no = 54321\n",
    "#  h2o.init(strict_version_check=False,min_mem_size_GB=min_mem_size,port=port_no) # start h2o\n",
    "h2o.init(strict_version_check=False) # start h2o"
   ]
  },
  {
   "cell_type": "code",
   "execution_count": 3,
   "metadata": {},
   "outputs": [],
   "source": [
    "df=pd.read_csv(\"mushrooms.csv\")"
   ]
  },
  {
   "cell_type": "code",
   "execution_count": 4,
   "metadata": {},
   "outputs": [
    {
     "name": "stdout",
     "output_type": "stream",
     "text": [
      "Parse progress: |█████████████████████████████████████████████████████████| 100%\n"
     ]
    }
   ],
   "source": [
    "df = h2o.H2OFrame(df)"
   ]
  },
  {
   "cell_type": "code",
   "execution_count": 5,
   "metadata": {},
   "outputs": [],
   "source": [
    "def run_id(n):\n",
    "    letter='0123456789abcdefghijklmnopqrstuvwxyzABCDEFGHIJKLMNOPQRSTUVWXYZ'    \n",
    "    str=''\n",
    "    r=len(letter)-1   \n",
    "    while len(str)<n:\n",
    "        i=random.randint(0,r)\n",
    "        str+=letter[i]   \n",
    "    return str\n",
    "server_path=None"
   ]
  },
  {
   "cell_type": "code",
   "execution_count": 7,
   "metadata": {},
   "outputs": [],
   "source": [
    "data_path= 'C:\\Users\\deodh\\Desktop\\hyperparameter\\mushrooms.csv'\n",
    "all_variables=None\n",
    "test_path=None\n",
    "target=None\n",
    "nthreads=1 \n",
    "min_mem_size=6 \n",
    "run_time=1000\n",
    "classification=True\n",
    "scale=False\n",
    "max_models=100   \n",
    "model_path=None\n",
    "balance_y=False \n",
    "balance_threshold=0.2\n",
    "name=None \n",
    "server_path=None  \n",
    "#analysis=0"
   ]
  },
  {
   "cell_type": "code",
   "execution_count": 8,
   "metadata": {},
   "outputs": [],
   "source": [
    "\n",
    "def meta_data(run_id,server,data,test,model_path,target,run_time,regression,model,balance,balance_threshold,name,path,nthreads,min_mem_size):\n",
    "    m_data={}\n",
    "    m_data['start_time'] = time.time()\n",
    "    m_data['target']=target\n",
    "    m_data['server_path']=server\n",
    "    m_data['data_path']=data \n",
    "    m_data['test_path']=test\n",
    "    m_data['max_models']=model\n",
    "    m_data['run_time']=run_time\n",
    "    m_data['run_id'] =run_id\n",
    "    m_data['scale']=scale\n",
    "    m_data['classification']=classification\n",
    "    m_data['scale']=False\n",
    "    m_data['model_path']=model_path\n",
    "    m_data['balance']=balance\n",
    "    m_data['balance_threshold']=balance_threshold\n",
    "    m_data['project'] =name\n",
    "    m_data['end_time'] = time.time()\n",
    "    m_data['execution_time'] = 0.0\n",
    "    m_data['run_path'] =path\n",
    "    m_data['nthreads'] = nthreads\n",
    "    m_data['min_mem_size'] = min_mem_size\n",
    "   # m_data['analysis'] = analysis\n",
    "    return m_data"
   ]
  },
  {
   "cell_type": "code",
   "execution_count": 9,
   "metadata": {},
   "outputs": [
    {
     "name": "stdout",
     "output_type": "stream",
     "text": [
      "[u'veil-color', u'cap-surface', u'habitat', u'odor', u'stalk-root', u'cap-shape', u'cap-color', u'stalk-color-above-ring', u'spore-print-color', u'gill-color', u'population', u'stalk-color-below-ring', u'ring-type', u'stalk-shape', u'bruises', u'stalk-surface-above-ring', u'veil-type', u'gill-attachment', u'gill-spacing', u'ring-number', u'stalk-surface-below-ring', u'gill-size']\n",
      "class\n"
     ]
    }
   ],
   "source": [
    "target = 'class'\n",
    "\n",
    "def get_independent_variables(train_data, targ):\n",
    "    C = [name for name in train_data.columns if name != targ]\n",
    "    # determine column types\n",
    "    ints, reals, enums = [], [], []\n",
    "    for key, val in train_data.types.items():\n",
    "        if key in C:\n",
    "            if val == 'enum':\n",
    "                enums.append(key)\n",
    "            elif val == 'int':\n",
    "                ints.append(key)            \n",
    "            else: \n",
    "                reals.append(key)    \n",
    "    x = ints + enums + reals\n",
    "    return x\n",
    "\n",
    "X = get_independent_variables(df, target) \n",
    "print(X)\n",
    "y = target\n",
    "print(y)"
   ]
  },
  {
   "cell_type": "code",
   "execution_count": 10,
   "metadata": {},
   "outputs": [],
   "source": [
    "# setup autoML\n",
    "# min_mem_size=6 \n",
    "run_time=1000\n",
    "aml1 = H2OAutoML(max_runtime_secs=run_time)"
   ]
  },
  {
   "cell_type": "code",
   "execution_count": 11,
   "metadata": {},
   "outputs": [
    {
     "name": "stdout",
     "output_type": "stream",
     "text": [
      "AutoML progress: |████████████████████████████████████████████████████████| 100%\n"
     ]
    }
   ],
   "source": [
    "model_start_time = time.time()\n",
    "aml1.train(x=X,y=y,training_frame=df)  # Change training_frame=train"
   ]
  },
  {
   "cell_type": "code",
   "execution_count": 12,
   "metadata": {},
   "outputs": [
    {
     "data": {
      "text/html": [
       "<table>\n",
       "<thead>\n",
       "<tr><th>model_id                                           </th><th style=\"text-align: right;\">     auc</th><th style=\"text-align: right;\">    logloss</th><th style=\"text-align: right;\">  mean_per_class_error</th><th style=\"text-align: right;\">       rmse</th><th style=\"text-align: right;\">        mse</th></tr>\n",
       "</thead>\n",
       "<tbody>\n",
       "<tr><td>GBM_grid_1_AutoML_20190420_055921_model_3          </td><td style=\"text-align: right;\">1       </td><td style=\"text-align: right;\">0.59486    </td><td style=\"text-align: right;\">           0          </td><td style=\"text-align: right;\">0.448418   </td><td style=\"text-align: right;\">0.201078   </td></tr>\n",
       "<tr><td>GBM_4_AutoML_20190420_055921                       </td><td style=\"text-align: right;\">1       </td><td style=\"text-align: right;\">2.56319e-16</td><td style=\"text-align: right;\">           0          </td><td style=\"text-align: right;\">1.7774e-14 </td><td style=\"text-align: right;\">3.15914e-28</td></tr>\n",
       "<tr><td>DRF_1_AutoML_20190420_055921                       </td><td style=\"text-align: right;\">1       </td><td style=\"text-align: right;\">0.00697063 </td><td style=\"text-align: right;\">           0          </td><td style=\"text-align: right;\">0.0221053  </td><td style=\"text-align: right;\">0.000488645</td></tr>\n",
       "<tr><td>GBM_5_AutoML_20190420_055921                       </td><td style=\"text-align: right;\">1       </td><td style=\"text-align: right;\">1.20567e-13</td><td style=\"text-align: right;\">           0          </td><td style=\"text-align: right;\">1.55141e-12</td><td style=\"text-align: right;\">2.40686e-24</td></tr>\n",
       "<tr><td>GBM_3_AutoML_20190420_055921                       </td><td style=\"text-align: right;\">1       </td><td style=\"text-align: right;\">2.41478e-17</td><td style=\"text-align: right;\">           0          </td><td style=\"text-align: right;\">1.49744e-15</td><td style=\"text-align: right;\">2.24232e-30</td></tr>\n",
       "<tr><td>StackedEnsemble_BestOfFamily_AutoML_20190420_055921</td><td style=\"text-align: right;\">1       </td><td style=\"text-align: right;\">0.00155243 </td><td style=\"text-align: right;\">           0          </td><td style=\"text-align: right;\">0.00204015 </td><td style=\"text-align: right;\">4.16219e-06</td></tr>\n",
       "<tr><td>GBM_grid_1_AutoML_20190420_055921_model_1          </td><td style=\"text-align: right;\">1       </td><td style=\"text-align: right;\">6.15589e-08</td><td style=\"text-align: right;\">           0          </td><td style=\"text-align: right;\">2.85975e-06</td><td style=\"text-align: right;\">8.17819e-12</td></tr>\n",
       "<tr><td>GLM_grid_1_AutoML_20190420_055921_model_1          </td><td style=\"text-align: right;\">1       </td><td style=\"text-align: right;\">0.00199809 </td><td style=\"text-align: right;\">           0          </td><td style=\"text-align: right;\">0.00783831 </td><td style=\"text-align: right;\">6.1439e-05 </td></tr>\n",
       "<tr><td>StackedEnsemble_AllModels_AutoML_20190420_055921   </td><td style=\"text-align: right;\">1       </td><td style=\"text-align: right;\">0.000892769</td><td style=\"text-align: right;\">           0          </td><td style=\"text-align: right;\">0.00167116 </td><td style=\"text-align: right;\">2.79276e-06</td></tr>\n",
       "<tr><td>GBM_grid_1_AutoML_20190420_055921_model_2          </td><td style=\"text-align: right;\">1       </td><td style=\"text-align: right;\">2.35865e-11</td><td style=\"text-align: right;\">           0          </td><td style=\"text-align: right;\">5.92841e-10</td><td style=\"text-align: right;\">3.5146e-19 </td></tr>\n",
       "<tr><td>GBM_2_AutoML_20190420_055921                       </td><td style=\"text-align: right;\">1       </td><td style=\"text-align: right;\">6.25901e-18</td><td style=\"text-align: right;\">           0          </td><td style=\"text-align: right;\">2.0971e-16 </td><td style=\"text-align: right;\">4.39783e-32</td></tr>\n",
       "<tr><td>DeepLearning_1_AutoML_20190420_055921              </td><td style=\"text-align: right;\">1       </td><td style=\"text-align: right;\">0.000369567</td><td style=\"text-align: right;\">           0          </td><td style=\"text-align: right;\">0.00743846 </td><td style=\"text-align: right;\">5.53307e-05</td></tr>\n",
       "<tr><td>GBM_1_AutoML_20190420_055921                       </td><td style=\"text-align: right;\">1       </td><td style=\"text-align: right;\">8.45923e-18</td><td style=\"text-align: right;\">           0          </td><td style=\"text-align: right;\">4.59422e-16</td><td style=\"text-align: right;\">2.11069e-31</td></tr>\n",
       "<tr><td>DeepLearning_grid_1_AutoML_20190420_055921_model_4 </td><td style=\"text-align: right;\">1       </td><td style=\"text-align: right;\">0.00115835 </td><td style=\"text-align: right;\">           0.000237643</td><td style=\"text-align: right;\">0.0199206  </td><td style=\"text-align: right;\">0.000396831</td></tr>\n",
       "<tr><td>DeepLearning_grid_1_AutoML_20190420_055921_model_1 </td><td style=\"text-align: right;\">0.999998</td><td style=\"text-align: right;\">0.00702336 </td><td style=\"text-align: right;\">           0.000237643</td><td style=\"text-align: right;\">0.046613   </td><td style=\"text-align: right;\">0.00217277 </td></tr>\n",
       "<tr><td>DeepLearning_grid_1_AutoML_20190420_055921_model_7 </td><td style=\"text-align: right;\">0.999992</td><td style=\"text-align: right;\">0.00539571 </td><td style=\"text-align: right;\">           0.000831749</td><td style=\"text-align: right;\">0.0339106  </td><td style=\"text-align: right;\">0.00114993 </td></tr>\n",
       "<tr><td>DeepLearning_grid_1_AutoML_20190420_055921_model_6 </td><td style=\"text-align: right;\">0.999966</td><td style=\"text-align: right;\">0.0134935  </td><td style=\"text-align: right;\">           0.00163328 </td><td style=\"text-align: right;\">0.0491484  </td><td style=\"text-align: right;\">0.00241557 </td></tr>\n",
       "<tr><td>GBM_grid_1_AutoML_20190420_055921_model_4          </td><td style=\"text-align: right;\">0.999916</td><td style=\"text-align: right;\">0.643971   </td><td style=\"text-align: right;\">           0.00102145 </td><td style=\"text-align: right;\">0.474827   </td><td style=\"text-align: right;\">0.225461   </td></tr>\n",
       "<tr><td>DeepLearning_grid_1_AutoML_20190420_055921_model_3 </td><td style=\"text-align: right;\">0.998037</td><td style=\"text-align: right;\">0.0841432  </td><td style=\"text-align: right;\">           0.0209209  </td><td style=\"text-align: right;\">0.133587   </td><td style=\"text-align: right;\">0.0178454  </td></tr>\n",
       "<tr><td>DeepLearning_grid_1_AutoML_20190420_055921_model_2 </td><td style=\"text-align: right;\">0.996733</td><td style=\"text-align: right;\">0.19573    </td><td style=\"text-align: right;\">           0.0115022  </td><td style=\"text-align: right;\">0.201487   </td><td style=\"text-align: right;\">0.0405972  </td></tr>\n",
       "<tr><td>XRT_1_AutoML_20190420_055921                       </td><td style=\"text-align: right;\">0.995575</td><td style=\"text-align: right;\">0.277253   </td><td style=\"text-align: right;\">           0.0207057  </td><td style=\"text-align: right;\">0.291091   </td><td style=\"text-align: right;\">0.0847337  </td></tr>\n",
       "<tr><td>DeepLearning_grid_1_AutoML_20190420_055921_model_5 </td><td style=\"text-align: right;\">0.994419</td><td style=\"text-align: right;\">0.125296   </td><td style=\"text-align: right;\">           0.0153468  </td><td style=\"text-align: right;\">0.11826    </td><td style=\"text-align: right;\">0.0139855  </td></tr>\n",
       "</tbody>\n",
       "</table>"
      ]
     },
     "metadata": {},
     "output_type": "display_data"
    },
    {
     "data": {
      "text/plain": []
     },
     "execution_count": 12,
     "metadata": {},
     "output_type": "execute_result"
    }
   ],
   "source": [
    "# view leaderboard\n",
    "lb1 = aml1.leaderboard\n",
    "lb1.head(500)"
   ]
  },
  {
   "cell_type": "code",
   "execution_count": 13,
   "metadata": {},
   "outputs": [
    {
     "data": {
      "text/plain": [
       "0             GBM_grid_1_AutoML_20190420_055921_model_3\n",
       "1                          GBM_4_AutoML_20190420_055921\n",
       "2                          DRF_1_AutoML_20190420_055921\n",
       "3                          GBM_5_AutoML_20190420_055921\n",
       "4                          GBM_3_AutoML_20190420_055921\n",
       "5     StackedEnsemble_BestOfFamily_AutoML_20190420_0...\n",
       "6             GBM_grid_1_AutoML_20190420_055921_model_1\n",
       "7             GLM_grid_1_AutoML_20190420_055921_model_1\n",
       "8      StackedEnsemble_AllModels_AutoML_20190420_055921\n",
       "9             GBM_grid_1_AutoML_20190420_055921_model_2\n",
       "10                         GBM_2_AutoML_20190420_055921\n",
       "11                DeepLearning_1_AutoML_20190420_055921\n",
       "12                         GBM_1_AutoML_20190420_055921\n",
       "13    DeepLearning_grid_1_AutoML_20190420_055921_mod...\n",
       "14    DeepLearning_grid_1_AutoML_20190420_055921_mod...\n",
       "15    DeepLearning_grid_1_AutoML_20190420_055921_mod...\n",
       "16    DeepLearning_grid_1_AutoML_20190420_055921_mod...\n",
       "17            GBM_grid_1_AutoML_20190420_055921_model_4\n",
       "18    DeepLearning_grid_1_AutoML_20190420_055921_mod...\n",
       "19    DeepLearning_grid_1_AutoML_20190420_055921_mod...\n",
       "20                         XRT_1_AutoML_20190420_055921\n",
       "21    DeepLearning_grid_1_AutoML_20190420_055921_mod...\n",
       "Name: model_id, dtype: object"
      ]
     },
     "execution_count": 13,
     "metadata": {},
     "output_type": "execute_result"
    }
   ],
   "source": [
    "aml1_leaderboard_df=aml1.leaderboard.as_data_frame()\n",
    "model_set=aml1_leaderboard_df['model_id']\n",
    "model_set"
   ]
  },
  {
   "cell_type": "code",
   "execution_count": 14,
   "metadata": {},
   "outputs": [
    {
     "name": "stdout",
     "output_type": "stream",
     "text": [
      "fICT1DYlnK\n"
     ]
    }
   ],
   "source": [
    "\n",
    "runid=run_id(10)\n",
    "if server_path==None:\n",
    "    server_path=os.path.abspath(os.curdir)\n",
    "os.chdir(server_path) \n",
    "run_dir = os.path.join(server_path,runid)\n",
    "os.mkdir(run_dir)\n",
    "os.chdir(run_dir)    \n",
    "\n",
    "# run_id to std out\n",
    "print (runid)"
   ]
  },
  {
   "cell_type": "code",
   "execution_count": 15,
   "metadata": {},
   "outputs": [
    {
     "name": "stdout",
     "output_type": "stream",
     "text": [
      "{'run_id': 'fICT1DYlnK', 'min_mem_size': 6, 'server_path': 'C:\\\\Users\\\\deodh\\\\Desktop\\\\hyperparameter', 'scale': False, 'target': 'class', 'classification': True, 'test_path': None, 'execution_time': 0.0, 'start_time': 1555757937.002, 'data_path': 'C:\\\\Users\\\\deodh\\\\Desktop\\\\hyperparameter\\\\mushrooms.csv', 'run_path': 'C:\\\\Users\\\\deodh\\\\Desktop\\\\hyperparameter\\\\fICT1DYlnK', 'project': None, 'end_time': 1555757937.002, 'nthreads': 1, 'run_time': 1000, 'max_models': 100, 'balance': False, 'balance_threshold': 0.2, 'model_path': None}\n"
     ]
    }
   ],
   "source": [
    "# meta data\n",
    "metadata = meta_data(runid,server_path,data_path,test_path,model_path,target,run_time,classification,max_models,balance_y,balance_threshold,name,run_dir,nthreads,min_mem_size)\n",
    "print(metadata)"
   ]
  },
  {
   "cell_type": "code",
   "execution_count": 16,
   "metadata": {},
   "outputs": [],
   "source": [
    "with open('metadata.json', 'w') as fp:\n",
    "    json.dump(metadata, fp)"
   ]
  },
  {
   "cell_type": "code",
   "execution_count": 17,
   "metadata": {},
   "outputs": [],
   "source": [
    "df1 = lb1.as_data_frame()"
   ]
  },
  {
   "cell_type": "code",
   "execution_count": 18,
   "metadata": {},
   "outputs": [],
   "source": [
    "df1.to_csv(\"1000leaderboard.csv\")"
   ]
  },
  {
   "cell_type": "code",
   "execution_count": 19,
   "metadata": {},
   "outputs": [],
   "source": [
    "model1 = h2o.get_model(lb1[0,'model_id'])\n",
    "model1 = model1.params\n",
    "with open('model1-GBM_1.json', 'w') as fp:\n",
    "    json.dump(model1, fp)"
   ]
  },
  {
   "cell_type": "code",
   "execution_count": 20,
   "metadata": {},
   "outputs": [],
   "source": [
    "model2 = h2o.get_model(lb1[1,'model_id'])\n",
    "model2 = model2.params\n",
    "with open('model2-GBM_4.json', 'w') as fp:\n",
    "    json.dump(model2, fp)"
   ]
  },
  {
   "cell_type": "code",
   "execution_count": 21,
   "metadata": {},
   "outputs": [],
   "source": [
    "model3 = h2o.get_model(lb1[2,'model_id'])\n",
    "model3 = model3.params\n",
    "with open('model3-GBM_3.json', 'w') as fp:\n",
    "    json.dump(model3, fp)"
   ]
  },
  {
   "cell_type": "code",
   "execution_count": 22,
   "metadata": {},
   "outputs": [],
   "source": [
    "model4 = h2o.get_model(lb1[3,'model_id'])\n",
    "model4 = model4.params\n",
    "with open('model4-GBM_grid_1_2.json', 'w') as fp:\n",
    "    json.dump(model4, fp)"
   ]
  },
  {
   "cell_type": "code",
   "execution_count": 23,
   "metadata": {},
   "outputs": [],
   "source": [
    "model5 = h2o.get_model(lb1[4,'model_id'])\n",
    "model5 = model5.params\n",
    "with open('model5-GLM_grid_1_1.json', 'w') as fp:\n",
    "    json.dump(model5, fp)"
   ]
  },
  {
   "cell_type": "code",
   "execution_count": 24,
   "metadata": {},
   "outputs": [],
   "source": [
    "model6 = h2o.get_model(lb1[5,'model_id'])\n",
    "model6 = model6.params\n",
    "with open('model6-GLM_grid_1_4.json', 'w') as fp:\n",
    "    json.dump(model6, fp)"
   ]
  },
  {
   "cell_type": "code",
   "execution_count": 25,
   "metadata": {},
   "outputs": [],
   "source": [
    "model7 = h2o.get_model(lb1[6,'model_id'])\n",
    "model7 = model7.params\n",
    "with open('model7-GBM_5.json', 'w') as fp:\n",
    "    json.dump(model7, fp)"
   ]
  },
  {
   "cell_type": "code",
   "execution_count": 26,
   "metadata": {},
   "outputs": [],
   "source": [
    "model8 = h2o.get_model(lb1[7,'model_id'])\n",
    "model8 = model8.params\n",
    "with open('model8-GBM_grid_1_3.json', 'w') as fp:\n",
    "    json.dump(model8, fp)"
   ]
  },
  {
   "cell_type": "code",
   "execution_count": 27,
   "metadata": {},
   "outputs": [],
   "source": [
    "model9 = h2o.get_model(lb1[8,'model_id'])\n",
    "model9 = model9.params\n",
    "with open('model9-StackedEnsemble_AllModels.json', 'w') as fp:\n",
    "    json.dump(model9, fp)"
   ]
  },
  {
   "cell_type": "code",
   "execution_count": 28,
   "metadata": {},
   "outputs": [],
   "source": [
    "model10 = h2o.get_model(lb1[9,'model_id'])\n",
    "model10 = model10.params\n",
    "with open('model10-DeepLearning_1.json', 'w') as fp:\n",
    "    json.dump(model10, fp)"
   ]
  },
  {
   "cell_type": "code",
   "execution_count": 29,
   "metadata": {},
   "outputs": [],
   "source": [
    "model11 = h2o.get_model(lb1[10,'model_id'])\n",
    "model11 = model11.params\n",
    "with open('model11-DRF_1.json', 'w') as fp:\n",
    "    json.dump(model11, fp)"
   ]
  },
  {
   "cell_type": "code",
   "execution_count": 30,
   "metadata": {},
   "outputs": [],
   "source": [
    "model12 = h2o.get_model(lb1[11,'model_id'])\n",
    "model12 = model12.params\n",
    "with open('model12-GBM_2.json', 'w') as fp:\n",
    "    json.dump(model12, fp)"
   ]
  },
  {
   "cell_type": "code",
   "execution_count": 31,
   "metadata": {},
   "outputs": [],
   "source": [
    "model13 = h2o.get_model(lb1[12,'model_id'])\n",
    "model13 = model13.params\n",
    "with open('model13-GBM_grid_1_1.json', 'w') as fp:\n",
    "    json.dump(model13, fp)"
   ]
  },
  {
   "cell_type": "code",
   "execution_count": 32,
   "metadata": {},
   "outputs": [],
   "source": [
    "model14 = h2o.get_model(lb1[13,'model_id'])\n",
    "model14 = model14.params\n",
    "with open('model14-StackedEnsemble_BestOfFamily.json', 'w') as fp:\n",
    "    json.dump(model14, fp)"
   ]
  },
  {
   "cell_type": "code",
   "execution_count": 33,
   "metadata": {},
   "outputs": [],
   "source": [
    "model15 = h2o.get_model(lb1[14,'model_id'])\n",
    "model15 = model15.params\n",
    "with open('model15-DeepLearning_grid_1_2.json', 'w') as fp:\n",
    "    json.dump(model15, fp)"
   ]
  },
  {
   "cell_type": "code",
   "execution_count": 34,
   "metadata": {},
   "outputs": [],
   "source": [
    "model16 = h2o.get_model(lb1[15,'model_id'])\n",
    "model16 = model16.params\n",
    "with open('model16-GBM_grid_1_5.json', 'w') as fp:\n",
    "    json.dump(model16, fp)"
   ]
  },
  {
   "cell_type": "code",
   "execution_count": 35,
   "metadata": {},
   "outputs": [],
   "source": [
    "model17 = h2o.get_model(lb1[16,'model_id'])\n",
    "model17 = model17.params\n",
    "with open('model17-DeepLearning_grid_1_1.json', 'w') as fp:\n",
    "    json.dump(model17, fp)"
   ]
  },
  {
   "cell_type": "code",
   "execution_count": 36,
   "metadata": {},
   "outputs": [],
   "source": [
    "model18 = h2o.get_model(lb1[17,'model_id'])\n",
    "model18 = model18.params\n",
    "with open('model18-XRT_1.json', 'w') as fp:\n",
    "    json.dump(model18, fp)"
   ]
  },
  {
   "cell_type": "code",
   "execution_count": 37,
   "metadata": {},
   "outputs": [],
   "source": [
    "model19 = h2o.get_model(lb1[18,'model_id'])\n",
    "model19 = model19.params\n",
    "with open('model19-DeepLearning_grid_1_3.json', 'w') as fp:\n",
    "    json.dump(model19, fp)"
   ]
  },
  {
   "cell_type": "code",
   "execution_count": 38,
   "metadata": {},
   "outputs": [],
   "source": [
    "model20 = h2o.get_model(lb1[19,'model_id'])\n",
    "model20 = model20.params\n",
    "with open('model20.json', 'w') as fp:\n",
    "    json.dump(model20, fp)"
   ]
  },
  {
   "cell_type": "code",
   "execution_count": 39,
   "metadata": {},
   "outputs": [],
   "source": [
    "model21 = h2o.get_model(lb1[20,'model_id'])\n",
    "model21 = model21.params\n",
    "with open('model21.json', 'w') as fp:\n",
    "    json.dump(model21, fp)"
   ]
  },
  {
   "cell_type": "code",
   "execution_count": 40,
   "metadata": {},
   "outputs": [],
   "source": [
    "model22 = h2o.get_model(lb1[21,'model_id'])\n",
    "model22 = model22.params\n",
    "with open('model22.json', 'w') as fp:\n",
    "    json.dump(model22, fp)"
   ]
  },
  {
   "cell_type": "code",
   "execution_count": 42,
   "metadata": {},
   "outputs": [
    {
     "ename": "H2OResponseError",
     "evalue": "Server error water.exceptions.H2OKeyNotFoundArgumentException:\n  Error: Object 'NA' not found for argument: key\n  Request: GET /3/Models/NA\n",
     "output_type": "error",
     "traceback": [
      "\u001b[1;31m---------------------------------------------------------------------------\u001b[0m",
      "\u001b[1;31mH2OResponseError\u001b[0m                          Traceback (most recent call last)",
      "\u001b[1;32m<ipython-input-42-4e96f3f69548>\u001b[0m in \u001b[0;36m<module>\u001b[1;34m()\u001b[0m\n\u001b[1;32m----> 1\u001b[1;33m \u001b[0mmodel23\u001b[0m \u001b[1;33m=\u001b[0m \u001b[0mh2o\u001b[0m\u001b[1;33m.\u001b[0m\u001b[0mget_model\u001b[0m\u001b[1;33m(\u001b[0m\u001b[0mlb1\u001b[0m\u001b[1;33m[\u001b[0m\u001b[1;36m22\u001b[0m\u001b[1;33m,\u001b[0m\u001b[1;34m'model_id'\u001b[0m\u001b[1;33m]\u001b[0m\u001b[1;33m)\u001b[0m\u001b[1;33m\u001b[0m\u001b[0m\n\u001b[0m\u001b[0;32m      2\u001b[0m \u001b[0mmodel23\u001b[0m \u001b[1;33m=\u001b[0m \u001b[0mmodel23\u001b[0m\u001b[1;33m.\u001b[0m\u001b[0mparams\u001b[0m\u001b[1;33m\u001b[0m\u001b[0m\n\u001b[0;32m      3\u001b[0m \u001b[1;32mwith\u001b[0m \u001b[0mopen\u001b[0m\u001b[1;33m(\u001b[0m\u001b[1;34m'model23.json'\u001b[0m\u001b[1;33m,\u001b[0m \u001b[1;34m'w'\u001b[0m\u001b[1;33m)\u001b[0m \u001b[1;32mas\u001b[0m \u001b[0mfp\u001b[0m\u001b[1;33m:\u001b[0m\u001b[1;33m\u001b[0m\u001b[0m\n\u001b[0;32m      4\u001b[0m     \u001b[0mjson\u001b[0m\u001b[1;33m.\u001b[0m\u001b[0mdump\u001b[0m\u001b[1;33m(\u001b[0m\u001b[0mmodel23\u001b[0m\u001b[1;33m,\u001b[0m \u001b[0mfp\u001b[0m\u001b[1;33m)\u001b[0m\u001b[1;33m\u001b[0m\u001b[0m\n",
      "\u001b[1;32mC:\\Users\\deodh\\Anaconda3\\lib\\site-packages\\h2o\\h2o.pyc\u001b[0m in \u001b[0;36mget_model\u001b[1;34m(model_id)\u001b[0m\n\u001b[0;32m    799\u001b[0m     \"\"\"\n\u001b[0;32m    800\u001b[0m     \u001b[0massert_is_type\u001b[0m\u001b[1;33m(\u001b[0m\u001b[0mmodel_id\u001b[0m\u001b[1;33m,\u001b[0m \u001b[0mstr\u001b[0m\u001b[1;33m)\u001b[0m\u001b[1;33m\u001b[0m\u001b[0m\n\u001b[1;32m--> 801\u001b[1;33m     \u001b[0mmodel_json\u001b[0m \u001b[1;33m=\u001b[0m \u001b[0mapi\u001b[0m\u001b[1;33m(\u001b[0m\u001b[1;34m\"GET /3/Models/%s\"\u001b[0m \u001b[1;33m%\u001b[0m \u001b[0mmodel_id\u001b[0m\u001b[1;33m)\u001b[0m\u001b[1;33m[\u001b[0m\u001b[1;34m\"models\"\u001b[0m\u001b[1;33m]\u001b[0m\u001b[1;33m[\u001b[0m\u001b[1;36m0\u001b[0m\u001b[1;33m]\u001b[0m\u001b[1;33m\u001b[0m\u001b[0m\n\u001b[0m\u001b[0;32m    802\u001b[0m     \u001b[0malgo\u001b[0m \u001b[1;33m=\u001b[0m \u001b[0mmodel_json\u001b[0m\u001b[1;33m[\u001b[0m\u001b[1;34m\"algo\"\u001b[0m\u001b[1;33m]\u001b[0m\u001b[1;33m\u001b[0m\u001b[0m\n\u001b[0;32m    803\u001b[0m     \u001b[1;32mif\u001b[0m \u001b[0malgo\u001b[0m \u001b[1;33m==\u001b[0m \u001b[1;34m\"svd\"\u001b[0m\u001b[1;33m:\u001b[0m            \u001b[0mm\u001b[0m \u001b[1;33m=\u001b[0m \u001b[0mH2OSVD\u001b[0m\u001b[1;33m(\u001b[0m\u001b[1;33m)\u001b[0m\u001b[1;33m\u001b[0m\u001b[0m\n",
      "\u001b[1;32mC:\\Users\\deodh\\Anaconda3\\lib\\site-packages\\h2o\\h2o.pyc\u001b[0m in \u001b[0;36mapi\u001b[1;34m(endpoint, data, json, filename, save_to)\u001b[0m\n\u001b[0;32m    104\u001b[0m     \u001b[1;31m# type checks are performed in H2OConnection class\u001b[0m\u001b[1;33m\u001b[0m\u001b[1;33m\u001b[0m\u001b[0m\n\u001b[0;32m    105\u001b[0m     \u001b[0m_check_connection\u001b[0m\u001b[1;33m(\u001b[0m\u001b[1;33m)\u001b[0m\u001b[1;33m\u001b[0m\u001b[0m\n\u001b[1;32m--> 106\u001b[1;33m     \u001b[1;32mreturn\u001b[0m \u001b[0mh2oconn\u001b[0m\u001b[1;33m.\u001b[0m\u001b[0mrequest\u001b[0m\u001b[1;33m(\u001b[0m\u001b[0mendpoint\u001b[0m\u001b[1;33m,\u001b[0m \u001b[0mdata\u001b[0m\u001b[1;33m=\u001b[0m\u001b[0mdata\u001b[0m\u001b[1;33m,\u001b[0m \u001b[0mjson\u001b[0m\u001b[1;33m=\u001b[0m\u001b[0mjson\u001b[0m\u001b[1;33m,\u001b[0m \u001b[0mfilename\u001b[0m\u001b[1;33m=\u001b[0m\u001b[0mfilename\u001b[0m\u001b[1;33m,\u001b[0m \u001b[0msave_to\u001b[0m\u001b[1;33m=\u001b[0m\u001b[0msave_to\u001b[0m\u001b[1;33m)\u001b[0m\u001b[1;33m\u001b[0m\u001b[0m\n\u001b[0m\u001b[0;32m    107\u001b[0m \u001b[1;33m\u001b[0m\u001b[0m\n\u001b[0;32m    108\u001b[0m \u001b[1;33m\u001b[0m\u001b[0m\n",
      "\u001b[1;32mC:\\Users\\deodh\\Anaconda3\\lib\\site-packages\\h2o\\backend\\connection.pyc\u001b[0m in \u001b[0;36mrequest\u001b[1;34m(self, endpoint, data, json, filename, save_to)\u001b[0m\n\u001b[0;32m    405\u001b[0m                                     auth=self._auth, verify=self._verify_ssl_cert, proxies=self._proxies)\n\u001b[0;32m    406\u001b[0m             \u001b[0mself\u001b[0m\u001b[1;33m.\u001b[0m\u001b[0m_log_end_transaction\u001b[0m\u001b[1;33m(\u001b[0m\u001b[0mstart_time\u001b[0m\u001b[1;33m,\u001b[0m \u001b[0mresp\u001b[0m\u001b[1;33m)\u001b[0m\u001b[1;33m\u001b[0m\u001b[0m\n\u001b[1;32m--> 407\u001b[1;33m             \u001b[1;32mreturn\u001b[0m \u001b[0mself\u001b[0m\u001b[1;33m.\u001b[0m\u001b[0m_process_response\u001b[0m\u001b[1;33m(\u001b[0m\u001b[0mresp\u001b[0m\u001b[1;33m,\u001b[0m \u001b[0msave_to\u001b[0m\u001b[1;33m)\u001b[0m\u001b[1;33m\u001b[0m\u001b[0m\n\u001b[0m\u001b[0;32m    408\u001b[0m \u001b[1;33m\u001b[0m\u001b[0m\n\u001b[0;32m    409\u001b[0m         \u001b[1;32mexcept\u001b[0m \u001b[1;33m(\u001b[0m\u001b[0mrequests\u001b[0m\u001b[1;33m.\u001b[0m\u001b[0mexceptions\u001b[0m\u001b[1;33m.\u001b[0m\u001b[0mConnectionError\u001b[0m\u001b[1;33m,\u001b[0m \u001b[0mrequests\u001b[0m\u001b[1;33m.\u001b[0m\u001b[0mexceptions\u001b[0m\u001b[1;33m.\u001b[0m\u001b[0mHTTPError\u001b[0m\u001b[1;33m)\u001b[0m \u001b[1;32mas\u001b[0m \u001b[0me\u001b[0m\u001b[1;33m:\u001b[0m\u001b[1;33m\u001b[0m\u001b[0m\n",
      "\u001b[1;32mC:\\Users\\deodh\\Anaconda3\\lib\\site-packages\\h2o\\backend\\connection.pyc\u001b[0m in \u001b[0;36m_process_response\u001b[1;34m(response, save_to)\u001b[0m\n\u001b[0;32m    741\u001b[0m         \u001b[1;31m# Client errors (400 = \"Bad Request\", 404 = \"Not Found\", 412 = \"Precondition Failed\")\u001b[0m\u001b[1;33m\u001b[0m\u001b[1;33m\u001b[0m\u001b[0m\n\u001b[0;32m    742\u001b[0m         \u001b[1;32mif\u001b[0m \u001b[0mstatus_code\u001b[0m \u001b[1;32min\u001b[0m \u001b[1;33m{\u001b[0m\u001b[1;36m400\u001b[0m\u001b[1;33m,\u001b[0m \u001b[1;36m404\u001b[0m\u001b[1;33m,\u001b[0m \u001b[1;36m412\u001b[0m\u001b[1;33m}\u001b[0m \u001b[1;32mand\u001b[0m \u001b[0misinstance\u001b[0m\u001b[1;33m(\u001b[0m\u001b[0mdata\u001b[0m\u001b[1;33m,\u001b[0m \u001b[1;33m(\u001b[0m\u001b[0mH2OErrorV3\u001b[0m\u001b[1;33m,\u001b[0m \u001b[0mH2OModelBuilderErrorV3\u001b[0m\u001b[1;33m)\u001b[0m\u001b[1;33m)\u001b[0m\u001b[1;33m:\u001b[0m\u001b[1;33m\u001b[0m\u001b[0m\n\u001b[1;32m--> 743\u001b[1;33m             \u001b[1;32mraise\u001b[0m \u001b[0mH2OResponseError\u001b[0m\u001b[1;33m(\u001b[0m\u001b[0mdata\u001b[0m\u001b[1;33m)\u001b[0m\u001b[1;33m\u001b[0m\u001b[0m\n\u001b[0m\u001b[0;32m    744\u001b[0m \u001b[1;33m\u001b[0m\u001b[0m\n\u001b[0;32m    745\u001b[0m         \u001b[1;31m# Server errors (notably 500 = \"Server Error\")\u001b[0m\u001b[1;33m\u001b[0m\u001b[1;33m\u001b[0m\u001b[0m\n",
      "\u001b[1;31mH2OResponseError\u001b[0m: Server error water.exceptions.H2OKeyNotFoundArgumentException:\n  Error: Object 'NA' not found for argument: key\n  Request: GET /3/Models/NA\n"
     ]
    }
   ],
   "source": [
    "model23 = h2o.get_model(lb1[22,'model_id'])\n",
    "model23 = model23.params\n",
    "with open('model23.json', 'w') as fp:\n",
    "    json.dump(model23, fp)"
   ]
  },
  {
   "cell_type": "code",
   "execution_count": null,
   "metadata": {},
   "outputs": [],
   "source": []
  }
 ],
 "metadata": {
  "kernelspec": {
   "display_name": "Python 2",
   "language": "python",
   "name": "python2"
  },
  "language_info": {
   "codemirror_mode": {
    "name": "ipython",
    "version": 2
   },
   "file_extension": ".py",
   "mimetype": "text/x-python",
   "name": "python",
   "nbconvert_exporter": "python",
   "pygments_lexer": "ipython2",
   "version": "2.7.16"
  }
 },
 "nbformat": 4,
 "nbformat_minor": 2
}
